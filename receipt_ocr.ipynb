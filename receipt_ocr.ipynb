{
 "cells": [
  {
   "cell_type": "code",
   "execution_count": 1,
   "metadata": {},
   "outputs": [],
   "source": [
    "import numpy as np\n",
    "import platform\n",
    "from PIL import ImageFont, ImageDraw, Image\n",
    "import matplotlib.pyplot as plt\n",
    " \n",
    "import uuid\n",
    "import json\n",
    "import time\n",
    "import cv2\n",
    "import requests"
   ]
  },
  {
   "cell_type": "code",
   "execution_count": 2,
   "metadata": {},
   "outputs": [],
   "source": [
    "def plt_imshow(title='image', img=None, figsize=(8 ,5)):\n",
    "    plt.figure(figsize=figsize)\n",
    " \n",
    "    if type(img) == list:\n",
    "        if type(title) == list:\n",
    "            titles = title\n",
    "        else:\n",
    "            titles = []\n",
    " \n",
    "            for i in range(len(img)):\n",
    "                titles.append(title)\n",
    " \n",
    "        for i in range(len(img)):\n",
    "            if len(img[i].shape) <= 2:\n",
    "                rgbImg = cv2.cvtColor(img[i], cv2.COLOR_GRAY2RGB)\n",
    "            else:\n",
    "                rgbImg = cv2.cvtColor(img[i], cv2.COLOR_BGR2RGB)\n",
    " \n",
    "            plt.subplot(1, len(img), i + 1), plt.imshow(rgbImg)\n",
    "            plt.title(titles[i])\n",
    "            plt.xticks([]), plt.yticks([])\n",
    " \n",
    "        plt.show()\n",
    "    else:\n",
    "        if len(img.shape) < 3:\n",
    "            rgbImg = cv2.cvtColor(img, cv2.COLOR_GRAY2RGB)\n",
    "        else:\n",
    "            rgbImg = cv2.cvtColor(img, cv2.COLOR_BGR2RGB)\n",
    " \n",
    "        plt.imshow(rgbImg)\n",
    "        plt.title(title)\n",
    "        plt.xticks([]), plt.yticks([])\n",
    "        plt.show()"
   ]
  },
  {
   "cell_type": "code",
   "execution_count": 3,
   "metadata": {},
   "outputs": [],
   "source": [
    "def put_text(image, text, x, y, color=(0, 255, 0), font_size=22):\n",
    "    if type(image) == np.ndarray:\n",
    "        color_coverted = cv2.cvtColor(image, cv2.COLOR_BGR2RGB)\n",
    "        image = Image.fromarray(color_coverted)\n",
    " \n",
    "    if platform.system() == 'Darwin':\n",
    "        font = 'AppleGothic.ttf'\n",
    "    elif platform.system() == 'Windows':\n",
    "        font = 'malgun.ttf'\n",
    "        \n",
    "    image_font = ImageFont.truetype(font, font_size)\n",
    "    font = ImageFont.load_default()\n",
    "    draw = ImageDraw.Draw(image)\n",
    " \n",
    "    draw.text((x, y), text, font=image_font, fill=color)\n",
    "    \n",
    "    numpy_image = np.array(image)\n",
    "    opencv_image = cv2.cvtColor(numpy_image, cv2.COLOR_RGB2BGR)\n",
    " \n",
    "    return opencv_image"
   ]
  },
  {
   "cell_type": "code",
   "execution_count": 4,
   "metadata": {},
   "outputs": [],
   "source": [
    "api_url = 'https://scvmznlk42.apigw.ntruss.com/custom/v1/24564/a0629381f32bee7cf0b261bb5a8ff1b2787c9b4c7f6fd82d54ec6e500752315c/document/receipt'\n",
    "secret_key = 'cElJQ2VPeFZkQ3JVQkx5V3lzTnFXdkZubWdnc1R5U3U='"
   ]
  },
  {
   "cell_type": "code",
   "execution_count": 5,
   "metadata": {},
   "outputs": [],
   "source": [
    "path = 'asset/images/test_image.jpeg'\n",
    "files = [('file', open(path,'rb'))]"
   ]
  },
  {
   "cell_type": "code",
   "execution_count": 6,
   "metadata": {},
   "outputs": [],
   "source": [
    "request_json = {'images': [{'format': 'jpg',\n",
    "                                'name': 'demo'\n",
    "                               }],\n",
    "                    'requestId': str(uuid.uuid4()),\n",
    "                    'version': 'V2',\n",
    "                    'timestamp': int(round(time.time() * 1000))\n",
    "                   }\n",
    " \n",
    "payload = {'message': json.dumps(request_json).encode('UTF-8')}\n",
    " \n",
    "headers = {\n",
    "  'X-OCR-SECRET': secret_key,\n",
    "}\n",
    " \n",
    "response = requests.request(\"POST\", api_url, headers=headers, data=payload, files=files)\n",
    "result = response.json()"
   ]
  },
  {
   "cell_type": "code",
   "execution_count": 7,
   "metadata": {},
   "outputs": [
    {
     "name": "stdout",
     "output_type": "stream",
     "text": [
      "receipt\n",
      "uid\n",
      "name\n",
      "inferResult\n",
      "message\n",
      "validationResult\n"
     ]
    }
   ],
   "source": [
    "texts = []\n",
    "\n",
    "img = cv2.imread(path)\n",
    "roi_img = img.copy()\n",
    " \n",
    "#for field in result['images'][0]['fields']:\n",
    "#    text = field['inferText']\n",
    "#    vertices_list = field['boundingPoly']['vertices']\n",
    "#    pts = [tuple(vertice.values()) for vertice in vertices_list]\n",
    "#    topLeft = [int(_) for _ in pts[0]]\n",
    "#    topRight = [int(_) for _ in pts[1]]\n",
    "#    bottomRight = [int(_) for _ in pts[2]]\n",
    "#    bottomLeft = [int(_) for _ in pts[3]]\n",
    " \n",
    "#    cv2.line(roi_img, topLeft, topRight, (0,255,0), 2)\n",
    "#    cv2.line(roi_img, topRight, bottomRight, (0,255,0), 2)\n",
    "#    cv2.line(roi_img, bottomRight, bottomLeft, (0,255,0), 2)\n",
    "#    cv2.line(roi_img, bottomLeft, topLeft, (0,255,0), 2)\n",
    "#    roi_img = put_text(roi_img, text, topLeft[0], topLeft[1] - 10, font_size=30)\n",
    "    \n",
    "#    print(text,end='')\n",
    "#    texts.append(text)\n",
    " \n",
    "#plt_imshow([\"Original\", \"ROI\"], [img, roi_img], figsize=(16, 10))\n",
    "for val in result['images'][0]:\n",
    "    print(val)"
   ]
  },
  {
   "cell_type": "code",
   "execution_count": 8,
   "metadata": {},
   "outputs": [
    {
     "data": {
      "text/plain": [
       "[]"
      ]
     },
     "execution_count": 8,
     "metadata": {},
     "output_type": "execute_result"
    }
   ],
   "source": [
    "texts"
   ]
  },
  {
   "cell_type": "code",
   "execution_count": null,
   "metadata": {},
   "outputs": [],
   "source": []
  }
 ],
 "metadata": {
  "kernelspec": {
   "display_name": "cv",
   "language": "python",
   "name": "python3"
  },
  "language_info": {
   "codemirror_mode": {
    "name": "ipython",
    "version": 3
   },
   "file_extension": ".py",
   "mimetype": "text/x-python",
   "name": "python",
   "nbconvert_exporter": "python",
   "pygments_lexer": "ipython3",
   "version": "3.11.3"
  },
  "orig_nbformat": 4
 },
 "nbformat": 4,
 "nbformat_minor": 2
}
